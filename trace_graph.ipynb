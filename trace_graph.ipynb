{
 "cells": [
  {
   "cell_type": "code",
   "execution_count": null,
   "metadata": {},
   "outputs": [],
   "source": [
    "# brew install graphviz\n",
    "# pip install graphviz\n",
    "from graphviz import Digraph\n",
    "from IPython.display import display\n"
   ]
  },
  {
   "cell_type": "code",
   "execution_count": null,
   "metadata": {},
   "outputs": [],
   "source": [
    "from micrograd.engine import Value\n",
    "h=0.000001"
   ]
  },
  {
   "cell_type": "code",
   "execution_count": null,
   "metadata": {},
   "outputs": [],
   "source": [
    "\n",
    "# Function to visualize computation graph with operators as separate nodes\n",
    "def visualize_graph(node, graph=None):\n",
    "    if graph is None:\n",
    "        graph = Digraph(format='svg',graph_attr={'rankdir': 'LR'})\n",
    "        graph.attr(dpi='70')  # Higher quality image\n",
    "\n",
    "    node_id = str(id(node))  # Unique identifier for each node\n",
    "    graph.node(node_id, str(node.label)+\": \"+str(node.data) + \" | grad:\"+str(round(float(node.grad), 4)), shape=\"record\", style=\"filled\", fillcolor=\"lightblue\")\n",
    "\n",
    "    # If there's an operation, create a separate operator node\n",
    "    if node.operator:\n",
    "        op_id = node_id + \"_op\"  # Unique ID for operator node\n",
    "        graph.node(op_id, node.operator, shape=\"circle\", style=\"filled\", fillcolor=\"orange\")\n",
    "        graph.edge(op_id, node_id)  # Operator points to the result\n",
    "\n",
    "        # Connect children to operator node instead of directly to the result\n",
    "        for child in node.prev:\n",
    "            child_id = str(id(child))\n",
    "            graph.node(child_id, str(child.data), shape=\"record\", style=\"filled\", fillcolor=\"lightgray\")\n",
    "            graph.edge(child_id, op_id)  # Connect child to operator\n",
    "\n",
    "            # Recursively add child nodes\n",
    "            visualize_graph(child, graph)\n",
    "\n",
    "    return graph\n"
   ]
  },
  {
   "cell_type": "code",
   "execution_count": null,
   "metadata": {},
   "outputs": [],
   "source": [
    "# a very simple example\n",
    "x = Value(1.0)\n",
    "y = (x * 2 + 1).relu()\n",
    "\n",
    "y.backprop(Value(h),y.grad)\n",
    "graph = visualize_graph(y)\n",
    "display(graph)\n"
   ]
  },
  {
   "cell_type": "code",
   "execution_count": null,
   "metadata": {},
   "outputs": [],
   "source": [
    "# a simple 2D neuron\n",
    "import random\n",
    "from micrograd import nn\n",
    "\n",
    "random.seed(1337)\n",
    "n = nn.Neuron(2)\n",
    "x = [Value(1.0), Value(-2.0)]\n",
    "y = n(x)\n",
    "y.backprop(Value(h),y.grad)\n",
    "graph = visualize_graph(y)\n",
    "display(graph)\n"
   ]
  },
  {
   "cell_type": "code",
   "execution_count": null,
   "metadata": {},
   "outputs": [],
   "source": [
    "dot.render('gout')"
   ]
  }
 ],
 "metadata": {
  "kernelspec": {
   "display_name": "Python 3",
   "language": "python",
   "name": "python3"
  },
  "language_info": {
   "codemirror_mode": {
    "name": "ipython",
    "version": 3
   },
   "file_extension": ".py",
   "mimetype": "text/x-python",
   "name": "python",
   "nbconvert_exporter": "python",
   "pygments_lexer": "ipython3",
   "version": "3.6.5"
  }
 },
 "nbformat": 4,
 "nbformat_minor": 2
}
